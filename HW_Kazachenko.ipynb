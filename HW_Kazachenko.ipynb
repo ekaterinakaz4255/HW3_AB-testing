{
 "cells": [
  {
   "cell_type": "markdown",
   "metadata": {},
   "source": [
    "# Финальное задание\n",
    "\n",
    "Маркетинговые агенства хотят проводить успешные рекламные кампании, но рынок сложен, что требует оценивать эффективности разных вариантов, что обуславливает необходимость проведения АБ-тестирования.\n",
    "\n",
    "### Компании заинтересованы в ответах на два вопроса:\n",
    "\n",
    "##### 1) Будет ли кампания успешной?\n",
    "\n",
    "##### 2) Если кампания была успешной, насколько этот успех можно объяснить рекламой?\n",
    "\n",
    "Чтобы ответить на второй вопрос, мы обычно проводим A/B тестирование.\n",
    "\n",
    "Большинство людей будут видеть рекламу (**экспериментальная группа**). А небольшая часть людей (**контрольная группа**) вместо этого увидит объявление государственной службы (PSA) (или ничего) точно такого же размера и в том же месте, где обычно находится реклама.\n",
    "\n",
    "Идея задания состоит в том, чтобы проанализировать группы, выяснить, была ли реклама успешной, сколько компания может заработать на рекламе и является ли разница между группами статистически значимой."
   ]
  },
  {
   "cell_type": "code",
   "execution_count": 216,
   "metadata": {},
   "outputs": [],
   "source": [
    "# Импорт библиотек\n",
    "import pandas as pd\n",
    "import numpy as np\n",
    "import matplotlib.pyplot as plt\n",
    "import seaborn as sns\n",
    "from scipy import stats\n",
    "from statsmodels.stats.proportion import proportions_ztest, proportions_chisquare, proportion_confint\n",
    "from scipy.stats import shapiro,ttest_ind, mannwhitneyu\n",
    "from statsmodels.stats.multitest import multipletests\n",
    "from scipy.stats import norm\n",
    "\n",
    "import warnings\n",
    "warnings.filterwarnings('ignore')"
   ]
  },
  {
   "cell_type": "markdown",
   "metadata": {},
   "source": [
    "Словарь данных:\n",
    "\n",
    " - user id: Идентификатор пользователя (уникальный).\n",
    " - test group: Если \"ad\", то человек видел рекламу, если \"psa\", то он видел только объявление государственной службы.\n",
    " - converted: Если человек купил продукт, то True, иначе False.\n",
    " - total ads: Количество рекламы, увиденной человеком.\n",
    " - most ads day: День, в который человек увидел наибольшее количество рекламы.\n",
    " - most ads hour: Час дня, в который человек увидел наибольшее количество рекламы."
   ]
  },
  {
   "cell_type": "code",
   "execution_count": 217,
   "metadata": {},
   "outputs": [
    {
     "data": {
      "text/html": [
       "<div>\n",
       "<style scoped>\n",
       "    .dataframe tbody tr th:only-of-type {\n",
       "        vertical-align: middle;\n",
       "    }\n",
       "\n",
       "    .dataframe tbody tr th {\n",
       "        vertical-align: top;\n",
       "    }\n",
       "\n",
       "    .dataframe thead th {\n",
       "        text-align: right;\n",
       "    }\n",
       "</style>\n",
       "<table border=\"1\" class=\"dataframe\">\n",
       "  <thead>\n",
       "    <tr style=\"text-align: right;\">\n",
       "      <th></th>\n",
       "      <th>user id</th>\n",
       "      <th>test group</th>\n",
       "      <th>converted</th>\n",
       "      <th>total ads</th>\n",
       "      <th>most ads day</th>\n",
       "      <th>most ads hour</th>\n",
       "    </tr>\n",
       "  </thead>\n",
       "  <tbody>\n",
       "    <tr>\n",
       "      <th>0</th>\n",
       "      <td>1069124</td>\n",
       "      <td>ad</td>\n",
       "      <td>False</td>\n",
       "      <td>130</td>\n",
       "      <td>Monday</td>\n",
       "      <td>20</td>\n",
       "    </tr>\n",
       "    <tr>\n",
       "      <th>1</th>\n",
       "      <td>1119715</td>\n",
       "      <td>ad</td>\n",
       "      <td>False</td>\n",
       "      <td>93</td>\n",
       "      <td>Tuesday</td>\n",
       "      <td>22</td>\n",
       "    </tr>\n",
       "    <tr>\n",
       "      <th>2</th>\n",
       "      <td>1144181</td>\n",
       "      <td>ad</td>\n",
       "      <td>False</td>\n",
       "      <td>21</td>\n",
       "      <td>Tuesday</td>\n",
       "      <td>18</td>\n",
       "    </tr>\n",
       "    <tr>\n",
       "      <th>3</th>\n",
       "      <td>1435133</td>\n",
       "      <td>ad</td>\n",
       "      <td>False</td>\n",
       "      <td>355</td>\n",
       "      <td>Tuesday</td>\n",
       "      <td>10</td>\n",
       "    </tr>\n",
       "    <tr>\n",
       "      <th>4</th>\n",
       "      <td>1015700</td>\n",
       "      <td>ad</td>\n",
       "      <td>False</td>\n",
       "      <td>276</td>\n",
       "      <td>Friday</td>\n",
       "      <td>14</td>\n",
       "    </tr>\n",
       "  </tbody>\n",
       "</table>\n",
       "</div>"
      ],
      "text/plain": [
       "   user id test group  converted  total ads most ads day  most ads hour\n",
       "0  1069124         ad      False        130       Monday             20\n",
       "1  1119715         ad      False         93      Tuesday             22\n",
       "2  1144181         ad      False         21      Tuesday             18\n",
       "3  1435133         ad      False        355      Tuesday             10\n",
       "4  1015700         ad      False        276       Friday             14"
      ]
     },
     "execution_count": 217,
     "metadata": {},
     "output_type": "execute_result"
    }
   ],
   "source": [
    "# Загрузка данных\n",
    "df = pd.read_csv('/Users/Екатерина/Desktop/marketing_AB.csv', index_col=[0])\n",
    "df.head()"
   ]
  },
  {
   "cell_type": "markdown",
   "metadata": {},
   "source": [
    "### I этап: анализ структуры данных и предобработка\n",
    "\n",
    "1) Исследуйте структуру данных;\n",
    "2) Преобразуйте столбцы к необходимым типам данных.\n",
    "3) Проверьте данные на наличие пропусков и избавьтесь от них, если нужно.\n",
    "4) Проверьте, есть ли пользователи, которые в процессе A/Bтеста попали в обе группы. Если да, исключите пользователей, оказавшихся в обеих группах."
   ]
  },
  {
   "cell_type": "code",
   "execution_count": 218,
   "metadata": {},
   "outputs": [
    {
     "name": "stdout",
     "output_type": "stream",
     "text": [
      "<class 'pandas.core.frame.DataFrame'>\n",
      "Index: 588101 entries, 0 to 588100\n",
      "Data columns (total 6 columns):\n",
      " #   Column         Non-Null Count   Dtype \n",
      "---  ------         --------------   ----- \n",
      " 0   user id        588101 non-null  int64 \n",
      " 1   test group     588101 non-null  object\n",
      " 2   converted      588101 non-null  bool  \n",
      " 3   total ads      588101 non-null  int64 \n",
      " 4   most ads day   588101 non-null  object\n",
      " 5   most ads hour  588101 non-null  int64 \n",
      "dtypes: bool(1), int64(3), object(2)\n",
      "memory usage: 27.5+ MB\n"
     ]
    }
   ],
   "source": [
    "# Информация о датафрейме\n",
    "df.info()"
   ]
  },
  {
   "cell_type": "markdown",
   "metadata": {},
   "source": [
    "Здесь мы видим общее количество столбцов (6) и количество строк (588101). При этом уже исходя из такой сводной информации видно, что пропусков нет, а все столбцы имеют тип данных, соответствующий их значениям. \n",
    "\n",
    "Для более удобных расчетов по показателю конверсии переведем этот столбец в числовой тип данных из булевого (True - 1, False - 0):"
   ]
  },
  {
   "cell_type": "code",
   "execution_count": 219,
   "metadata": {},
   "outputs": [],
   "source": [
    "df[\"converted\"] = df[\"converted\"].map({\n",
    "    True: 1, False: 0\n",
    "    })"
   ]
  },
  {
   "cell_type": "code",
   "execution_count": 220,
   "metadata": {},
   "outputs": [
    {
     "name": "stdout",
     "output_type": "stream",
     "text": [
      "В столбце user id всего 588101 уникальных значений:\n",
      "[1069124 1119715 1144181 1435133 1015700 1137664 1116205]\n",
      "Тип данных в столбце: int64\n",
      "Пропусков по столбцу user id нет\n",
      "\n",
      "В столбце test group всего 2 уникальных значений:\n",
      "['ad' 'psa']\n",
      "Тип данных в столбце: object\n",
      "Пропусков по столбцу test group нет\n",
      "\n",
      "В столбце converted всего 2 уникальных значений:\n",
      "[0 1]\n",
      "Тип данных в столбце: int64\n",
      "Пропусков по столбцу converted нет\n",
      "\n",
      "В столбце total ads всего 807 уникальных значений:\n",
      "[130  93  21 355 276 734 264]\n",
      "Тип данных в столбце: int64\n",
      "Пропусков по столбцу total ads нет\n",
      "\n",
      "В столбце most ads day всего 7 уникальных значений:\n",
      "['Monday' 'Tuesday' 'Friday' 'Saturday' 'Wednesday' 'Sunday' 'Thursday']\n",
      "Тип данных в столбце: object\n",
      "Пропусков по столбцу most ads day нет\n",
      "\n",
      "В столбце most ads hour всего 24 уникальных значений:\n",
      "[20 22 18 10 14 13 19]\n",
      "Тип данных в столбце: int64\n",
      "Пропусков по столбцу most ads hour нет\n",
      "\n"
     ]
    }
   ],
   "source": [
    "# Цикл для проверки пропущенных данных, вывода уникальных значений и типа данных в столбце \n",
    "for col in df.columns:\n",
    "    print(f\"В столбце {col} всего {df[col].nunique()} уникальных значений:\")\n",
    "    print(df[col].unique()[0:7])\n",
    "    print(f'Тип данных в столбце: {df[col].dtype}')\n",
    "    if df[col].isna().sum() > 0:\n",
    "        print(\n",
    "            f\"Пропуски в столбце {col} будут удалены: {df[col].isna().sum()}\")\n",
    "        df = df.dropna(subset=[col])\n",
    "    else:\n",
    "        print(f\"Пропусков по столбцу {col} нет\")\n",
    "    print()"
   ]
  },
  {
   "cell_type": "code",
   "execution_count": 221,
   "metadata": {},
   "outputs": [
    {
     "name": "stdout",
     "output_type": "stream",
     "text": [
      "Все значения в столбце \"user id\" являются уникальными\n"
     ]
    }
   ],
   "source": [
    "# Проверяем, есть у нас вообще повторы id пользователей в датасете\n",
    "if len(df) == df['user id'].nunique():\n",
    "    print('Все значения в столбце \"user id\" являются уникальными')\n",
    "else:\n",
    "    print('Есть дупликаты пользователей')"
   ]
  },
  {
   "cell_type": "markdown",
   "metadata": {},
   "source": [
    "Таким образом, данный датасет не содержит дубликатов и пропусков, типы данных в столбцах соответсвуют их значениям. Дополнительная предобработка не требуется. "
   ]
  },
  {
   "cell_type": "markdown",
   "metadata": {},
   "source": [
    "### II этап: первичный анализ результатов A/B-тестирования\n",
    "Рассчитайте вспомогательные показатели для контрольной и тестовой групп:\n",
    "\n",
    " - количество посещений сайта;\n",
    " - суммарное количество совершённых покупок;\n",
    " - Сделайте промежуточные выводы по построенной таблице. Сопоставимо ли количество посещений обоих вариантов посадочной страницы? Можно ли говорить о сбалансированности выборок?\n",
    "\n",
    "В каждой из групп рассчитайте ключевые показатели:\n",
    "\n",
    " - конверсия;\n",
    " - среднее количество рекламы, увиденной пользователем.\n",
    " - Сделайте первичные выводы о результатах A/B-тестирования на основе показателей конверсии и среднего количества увиденной рекламы в каждой из групп. По какому(-им) показателю(-ям), на первый взгляд, вариант А эффективнее варианта B и наоборот?"
   ]
  },
  {
   "cell_type": "code",
   "execution_count": 222,
   "metadata": {},
   "outputs": [
    {
     "data": {
      "text/html": [
       "<div>\n",
       "<style scoped>\n",
       "    .dataframe tbody tr th:only-of-type {\n",
       "        vertical-align: middle;\n",
       "    }\n",
       "\n",
       "    .dataframe tbody tr th {\n",
       "        vertical-align: top;\n",
       "    }\n",
       "\n",
       "    .dataframe thead th {\n",
       "        text-align: right;\n",
       "    }\n",
       "</style>\n",
       "<table border=\"1\" class=\"dataframe\">\n",
       "  <thead>\n",
       "    <tr style=\"text-align: right;\">\n",
       "      <th></th>\n",
       "      <th>test group</th>\n",
       "      <th>visits</th>\n",
       "      <th>total_conversions</th>\n",
       "    </tr>\n",
       "  </thead>\n",
       "  <tbody>\n",
       "    <tr>\n",
       "      <th>0</th>\n",
       "      <td>ad</td>\n",
       "      <td>564577</td>\n",
       "      <td>14423</td>\n",
       "    </tr>\n",
       "    <tr>\n",
       "      <th>1</th>\n",
       "      <td>psa</td>\n",
       "      <td>23524</td>\n",
       "      <td>420</td>\n",
       "    </tr>\n",
       "  </tbody>\n",
       "</table>\n",
       "</div>"
      ],
      "text/plain": [
       "  test group  visits  total_conversions\n",
       "0         ad  564577              14423\n",
       "1        psa   23524                420"
      ]
     },
     "metadata": {},
     "output_type": "display_data"
    },
    {
     "name": "stdout",
     "output_type": "stream",
     "text": [
      "\n",
      "Промежуточные выводы:\n",
      "Количество посещений в группах не сопоставимо. Выборки не сбалансированы.\n"
     ]
    }
   ],
   "source": [
    "# Промежуточные показатели по группам: кол-во посещений сайта и суммарное кол-во совершенных покупок\n",
    "df_groupped = df.groupby('test group').agg({'user id': 'count', 'converted': 'sum'}).rename(\n",
    "    columns={'user id': 'visits', 'converted': 'total_conversions'}).reset_index()\n",
    "display(df_groupped)\n",
    "\n",
    "# Делаем вывод о сбалансированности выборок\n",
    "print(\"\\nПромежуточные выводы:\")\n",
    "if df_groupped['visits'].iloc[0] == df_groupped['visits'].iloc[1]:\n",
    "    print(\"Количество посещений в обеих группах сопоставимо. Выборки сбалансированы.\")\n",
    "else:\n",
    "    print(\"Количество посещений в группах не сопоставимо. Выборки не сбалансированы.\")"
   ]
  },
  {
   "cell_type": "code",
   "execution_count": 223,
   "metadata": {},
   "outputs": [
    {
     "data": {
      "text/html": [
       "<div>\n",
       "<style scoped>\n",
       "    .dataframe tbody tr th:only-of-type {\n",
       "        vertical-align: middle;\n",
       "    }\n",
       "\n",
       "    .dataframe tbody tr th {\n",
       "        vertical-align: top;\n",
       "    }\n",
       "\n",
       "    .dataframe thead th {\n",
       "        text-align: right;\n",
       "    }\n",
       "</style>\n",
       "<table border=\"1\" class=\"dataframe\">\n",
       "  <thead>\n",
       "    <tr style=\"text-align: right;\">\n",
       "      <th></th>\n",
       "      <th>test group</th>\n",
       "      <th>visits</th>\n",
       "      <th>total_conversions</th>\n",
       "      <th>conversion</th>\n",
       "    </tr>\n",
       "  </thead>\n",
       "  <tbody>\n",
       "    <tr>\n",
       "      <th>0</th>\n",
       "      <td>ad</td>\n",
       "      <td>564577</td>\n",
       "      <td>14423</td>\n",
       "      <td>2.554656</td>\n",
       "    </tr>\n",
       "    <tr>\n",
       "      <th>1</th>\n",
       "      <td>psa</td>\n",
       "      <td>23524</td>\n",
       "      <td>420</td>\n",
       "      <td>1.785411</td>\n",
       "    </tr>\n",
       "  </tbody>\n",
       "</table>\n",
       "</div>"
      ],
      "text/plain": [
       "  test group  visits  total_conversions  conversion\n",
       "0         ad  564577              14423    2.554656\n",
       "1        psa   23524                420    1.785411"
      ]
     },
     "metadata": {},
     "output_type": "display_data"
    }
   ],
   "source": [
    "# Расчет конверсии по группам\n",
    "df_groupped['conversion'] = (df_groupped['total_conversions'] / df_groupped['visits']) * 100\n",
    "display(df_groupped.head())"
   ]
  },
  {
   "cell_type": "code",
   "execution_count": 224,
   "metadata": {},
   "outputs": [
    {
     "data": {
      "text/html": [
       "<div>\n",
       "<style scoped>\n",
       "    .dataframe tbody tr th:only-of-type {\n",
       "        vertical-align: middle;\n",
       "    }\n",
       "\n",
       "    .dataframe tbody tr th {\n",
       "        vertical-align: top;\n",
       "    }\n",
       "\n",
       "    .dataframe thead th {\n",
       "        text-align: right;\n",
       "    }\n",
       "</style>\n",
       "<table border=\"1\" class=\"dataframe\">\n",
       "  <thead>\n",
       "    <tr style=\"text-align: right;\">\n",
       "      <th></th>\n",
       "      <th>test group</th>\n",
       "      <th>visits</th>\n",
       "      <th>total_conversions</th>\n",
       "      <th>conversion</th>\n",
       "      <th>average_ad</th>\n",
       "    </tr>\n",
       "  </thead>\n",
       "  <tbody>\n",
       "    <tr>\n",
       "      <th>0</th>\n",
       "      <td>ad</td>\n",
       "      <td>564577</td>\n",
       "      <td>14423</td>\n",
       "      <td>2.554656</td>\n",
       "      <td>24.823365</td>\n",
       "    </tr>\n",
       "    <tr>\n",
       "      <th>1</th>\n",
       "      <td>psa</td>\n",
       "      <td>23524</td>\n",
       "      <td>420</td>\n",
       "      <td>1.785411</td>\n",
       "      <td>24.761138</td>\n",
       "    </tr>\n",
       "  </tbody>\n",
       "</table>\n",
       "</div>"
      ],
      "text/plain": [
       "  test group  visits  total_conversions  conversion  average_ad\n",
       "0         ad  564577              14423    2.554656   24.823365\n",
       "1        psa   23524                420    1.785411   24.761138"
      ]
     },
     "metadata": {},
     "output_type": "display_data"
    }
   ],
   "source": [
    "# Расчет среднего количества рекламы, увиденной пользователем по группам\n",
    "average_ad = df.groupby('test group')['total ads'].mean().reset_index(name='average_ad')\n",
    "df_groupped = df_groupped.merge(average_ad, on='test group')\n",
    "display(df_groupped)"
   ]
  },
  {
   "cell_type": "code",
   "execution_count": 225,
   "metadata": {},
   "outputs": [
    {
     "name": "stdout",
     "output_type": "stream",
     "text": [
      "\n",
      "Первичные выводы:\n",
      "Группа 'ad': Конверсия = 2.55, Среднее количество рекламы = 25\n",
      "Группа 'psa': Конверсия = 1.79, Среднее количество рекламы = 25\n",
      "Экспериментальная группа (ad) показывает лучшую конверсию.\n",
      "В обеих группах среднее количество показанной рекламы одинаково.\n"
     ]
    }
   ],
   "source": [
    "# Первичные выводы\n",
    "print(\"\\nПервичные выводы:\")\n",
    "for index, row in df_groupped.iterrows():\n",
    "    print(\n",
    "        f\"Группа '{row['test group']}': Конверсия = {round(row['conversion'],2)}, Среднее количество рекламы = {round(row['average_ad'])}\")\n",
    "\n",
    "if df_groupped.loc[df_groupped['test group'] == 'ad', 'conversion'].values[0] > df_groupped.loc[df_groupped['test group'] == 'psa', 'conversion'].values[0]:\n",
    "    print(\"Экспериментальная группа (ad) показывает лучшую конверсию.\")\n",
    "else:\n",
    "    print(\"Группа контроля (psa) показывает лучшую конверсию.\")\n",
    "\n",
    "if round(df_groupped.loc[df_groupped['test group'] == 'ad', 'average_ad'].values[0]) > round(df_groupped.loc[df_groupped['test group'] == 'psa', 'average_ad'].values[0]):\n",
    "    print(\"Экспериментальная группа (ad) показывает большее среднее количество рекламы.\")\n",
    "elif round(df_groupped.loc[df_groupped['test group'] == 'ad', 'average_ad'].values[0]) == round(df_groupped.loc[df_groupped['test group'] == 'psa', 'average_ad'].values[0]):\n",
    "    print(\"В обеих группах среднее количество показанной рекламы одинаково.\")\n",
    "else:\n",
    "    print(\"Группа контроля (psa) показывает большее среднее количество рекламы.\")"
   ]
  },
  {
   "cell_type": "markdown",
   "metadata": {},
   "source": [
    "Таким образом, конверсия выше в первой группе, где показывали рекламу, однако, среднее количество показанной рекламы одинаково между группами. В связи с этим можем сделать предварительный вывод, что при одинаковом показе рекламы и объявления о госслужбе, именно реклама способствует большей конверсии. "
   ]
  },
  {
   "cell_type": "markdown",
   "metadata": {},
   "source": [
    "### III этап: статистический анализ результатов A/B-тестирования\n",
    "Сформулируйте статистические гипотезы, соответствующие поставленным бизнес-вопросам, и выберите статистический тест для их проверки.\n",
    "\n",
    "Не забудьте проверить данные на нормальность там, где это необходимо.\n",
    "\n",
    "С помощью аппарата статистических тестов определите:\n",
    " - Есть ли статистическая разница между конверсиями в группах А и B?\n",
    " - Есть ли статистическая разница между средними количествами увиденной рекламы в группах А и B?\n",
    " - Подкрепите результаты статистических тестов, построив 95 % доверительные интервалы для:\n",
    "    - конверсий в каждой из групп;\n",
    "    - разницы конверсий в группах;\n",
    "    - среднего количества увиденной рекламы в группах А и B.\n",
    " - Проинтерпретируйте построенные доверительные интервалы для конверсий и среднего количества увиденной рекламы группах. Есть ли перекрытие между доверительными интервалами для групп? Если есть, то о чём это говорит?"
   ]
  },
  {
   "cell_type": "code",
   "execution_count": 226,
   "metadata": {},
   "outputs": [],
   "source": [
    "# Разделяем данные по выборкам\n",
    "ad = df[df['test group'] == 'ad']\n",
    "psa = df[df['test group'] == 'psa']"
   ]
  },
  {
   "cell_type": "code",
   "execution_count": 227,
   "metadata": {},
   "outputs": [],
   "source": [
    "# Задаем уровень значимости для всех статистических тестов\n",
    "alpha = 0.05"
   ]
  },
  {
   "cell_type": "code",
   "execution_count": 228,
   "metadata": {},
   "outputs": [],
   "source": [
    "# Проверяем данные на нормальность распределения (Shapiro-Wilk тест)\n",
    "\n",
    "def shapiro_function(df,col,alpha=0.05):\n",
    "    \n",
    "    # Формулируем гипотезы\n",
    "    H0 = 'Данные в группе имеют нормальное распределение'\n",
    "    H1 = 'Данные в группе имеют не нормальное распределение'\n",
    "    \n",
    "    # Shapiro-Wilk тест\n",
    "    test_normality = stats.shapiro(df[col])\n",
    "\n",
    "    print(\"Проверка на нормальность:\")\n",
    "    if test_normality.pvalue < alpha:\n",
    "        print(f'Отклоняем нулевую гипотезу, принимаем альтернативную:')\n",
    "        print(H1)\n",
    "        print(round(test_normality.pvalue,5))\n",
    "    else:\n",
    "        print(f'Мы не можем отклонить нулевую гипотезу и принимаем ее:')\n",
    "        print(H0)\n",
    "        print(round(test_normality.pvalue,5))\n"
   ]
  },
  {
   "cell_type": "markdown",
   "metadata": {},
   "source": [
    "##### Проверяем различия по конверсиям между группами:\n",
    "\n",
    "(так как мы выше предположили, что в группе с рекламой конверия выше, то это и будем проверять с помощью статистических тестов)"
   ]
  },
  {
   "cell_type": "code",
   "execution_count": 229,
   "metadata": {},
   "outputs": [],
   "source": [
    "# Гипотезы:\n",
    "H0 = \"В экспериментальнй группе (с рекламой) конверсия не выше, чем в контрольной группе\"\n",
    "H1 = \"В экспериментальнй группе (с рекламой) конверсия выше\""
   ]
  },
  {
   "cell_type": "code",
   "execution_count": 230,
   "metadata": {},
   "outputs": [
    {
     "data": {
      "text/html": [
       "<div>\n",
       "<style scoped>\n",
       "    .dataframe tbody tr th:only-of-type {\n",
       "        vertical-align: middle;\n",
       "    }\n",
       "\n",
       "    .dataframe tbody tr th {\n",
       "        vertical-align: top;\n",
       "    }\n",
       "\n",
       "    .dataframe thead th {\n",
       "        text-align: right;\n",
       "    }\n",
       "</style>\n",
       "<table border=\"1\" class=\"dataframe\">\n",
       "  <thead>\n",
       "    <tr style=\"text-align: right;\">\n",
       "      <th></th>\n",
       "      <th>test group</th>\n",
       "      <th>visits</th>\n",
       "      <th>total_conversions</th>\n",
       "      <th>conversion</th>\n",
       "      <th>average_ad</th>\n",
       "    </tr>\n",
       "  </thead>\n",
       "  <tbody>\n",
       "    <tr>\n",
       "      <th>0</th>\n",
       "      <td>ad</td>\n",
       "      <td>564577</td>\n",
       "      <td>14423</td>\n",
       "      <td>2.554656</td>\n",
       "      <td>24.823365</td>\n",
       "    </tr>\n",
       "    <tr>\n",
       "      <th>1</th>\n",
       "      <td>psa</td>\n",
       "      <td>23524</td>\n",
       "      <td>420</td>\n",
       "      <td>1.785411</td>\n",
       "      <td>24.761138</td>\n",
       "    </tr>\n",
       "  </tbody>\n",
       "</table>\n",
       "</div>"
      ],
      "text/plain": [
       "  test group  visits  total_conversions  conversion  average_ad\n",
       "0         ad  564577              14423    2.554656   24.823365\n",
       "1        psa   23524                420    1.785411   24.761138"
      ]
     },
     "execution_count": 230,
     "metadata": {},
     "output_type": "execute_result"
    }
   ],
   "source": [
    "# У нас уже есть датасет с рассчитанным количеством посещений visits сайта \n",
    "# и количетсвом случаев \"успешной\" конверсии total_conversions\n",
    "df_groupped.head()"
   ]
  },
  {
   "cell_type": "markdown",
   "metadata": {},
   "source": [
    "Для сравнения пропорций конверсии мы выбираем Z-критерий для пропорций, так как выборка у нас большая, что будет достаточно для использования этого теста."
   ]
  },
  {
   "cell_type": "code",
   "execution_count": 254,
   "metadata": {},
   "outputs": [
    {
     "name": "stdout",
     "output_type": "stream",
     "text": [
      "p-value:  8.526403580779863e-14\n",
      "Мы отвергаем нулевую гипотезу, верна альтернативная: \n",
      "В экспериментальнй группе (с рекламой) конверсия выше\n"
     ]
    }
   ],
   "source": [
    "# вычисляем значение p-value для z-теста для пропорций\n",
    "_, p_value = proportions_ztest(\n",
    "    count=df_groupped['total_conversions'], #число «успехов»\n",
    "    nobs=df_groupped['visits'], #общее число наблюдений\n",
    "    alternative='larger'\n",
    ")\n",
    "\n",
    "print('p-value: ', p_value)\n",
    "\n",
    "if (p_value <= alpha):\n",
    "    print(\"Мы отвергаем нулевую гипотезу, верна альтернативная: \")\n",
    "    print(H1)\n",
    "else:\n",
    "    print(\"У нас нет оснований отвергнуть нулевую гипотезу\")\n",
    "    print(H0)"
   ]
  },
  {
   "cell_type": "markdown",
   "metadata": {},
   "source": [
    "Таким образом, конверсия в экспериментальной группе с показом рекламы статистически значимо выше конверсии в группе контроля. "
   ]
  },
  {
   "cell_type": "markdown",
   "metadata": {},
   "source": [
    "95 % доверительные интервалы для конверсий:"
   ]
  },
  {
   "cell_type": "code",
   "execution_count": 232,
   "metadata": {},
   "outputs": [],
   "source": [
    "# Функция для расчета доверительного интервала для пропорции\n",
    "def proportion_conf_interval(x_p, n, gamma=0.95):  \n",
    "    alpha = 1 - gamma \n",
    "    z_crit = -norm.ppf(alpha/2) \n",
    "    eps = z_crit * (x_p * (1 - x_p) / n) ** 0.5\n",
    "    lower_bound = x_p - eps\n",
    "    upper_bound = x_p + eps \n",
    "    return lower_bound, upper_bound"
   ]
  },
  {
   "cell_type": "code",
   "execution_count": 233,
   "metadata": {},
   "outputs": [
    {
     "name": "stdout",
     "output_type": "stream",
     "text": [
      "Доверительный интервал для конверсии в экспериментальной группе: (np.float64(2.51), np.float64(2.6))\n",
      "Доверительный интервал для конверсии в контрольной группе: (np.float64(1.62), np.float64(1.95))\n"
     ]
    },
    {
     "data": {
      "image/png": "[encoded data removed]",
      "text/plain": [
       "<Figure size 800x600 with 1 Axes>"
      ]
     },
     "metadata": {},
     "output_type": "display_data"
    }
   ],
   "source": [
    "# доверительный интервал для конверсии в экспериментальной группе\n",
    "lower_bound_a, upper_bound_a  = proportion_conf_interval(\n",
    "    x_p=ad['converted'].mean(),\n",
    "    n=ad['user id'].count() \n",
    ")\n",
    "\n",
    "# доверительный интервал для конверсии в контрольной группе\n",
    "lower_bound_b, upper_bound_b  = proportion_conf_interval(\n",
    "    x_p=psa['converted'].mean(), \n",
    "    n=psa['user id'].count()\n",
    ")\n",
    "\n",
    "print('Доверительный интервал для конверсии в экспериментальной группе: {}'.format((round(lower_bound_a * 100, 2), round(upper_bound_a * 100, 2))))\n",
    "print('Доверительный интервал для конверсии в контрольной группе: {}'.format((round(lower_bound_b * 100, 2), round(upper_bound_b * 100, 2))))\n",
    "\n",
    "# Визуализация данных\n",
    "groups = ['Экспериментальная группа', 'Контрольная группа']\n",
    "means = [ad['converted'].mean(), psa['converted'].mean()]\n",
    "ci_lowers = [lower_bound_a, lower_bound_b]\n",
    "ci_uppers = [upper_bound_a, upper_bound_b]\n",
    "\n",
    "fig, ax = plt.subplots(figsize=(8, 6))\n",
    "ax.bar(groups, means, yerr=[np.subtract(means, ci_lowers), np.subtract(ci_uppers, means)], capsize=10, color=['blue', 'green'])\n",
    "ax.set_ylabel('Конверсия')\n",
    "ax.set_title('Доверительный интервал для конверсии 95% доверительными интервалами')\n",
    "ax.grid(True)\n",
    "\n",
    "plt.show()"
   ]
  },
  {
   "cell_type": "markdown",
   "metadata": {},
   "source": [
    "Вывод: доверительные интервалы не пересекаются, то есть значимая разница между конверсиями в двух группах есть. "
   ]
  },
  {
   "cell_type": "markdown",
   "metadata": {},
   "source": [
    "95 % доверительные интервалы для разницы конверсий в группах:"
   ]
  },
  {
   "cell_type": "code",
   "execution_count": 234,
   "metadata": {},
   "outputs": [],
   "source": [
    "# Функция для расчета доверительного интервала для разницы пропорций\n",
    "def diff_proportion_conf_interval(x_p, n, gamma=0.95):\n",
    "    alpha = 1 - gamma\n",
    "    diff = x_p[1] - x_p[0]\n",
    "    z_crit = -norm.ppf(alpha/2)\n",
    "    eps = z_crit * (x_p[0] * (1 - x_p[0])/n[0] + x_p[1] * (1 - x_p[1])/n[1]) ** 0.5\n",
    "    lower_bound = diff - eps\n",
    "    upper_bound = diff + eps\n",
    "    return lower_bound, upper_bound"
   ]
  },
  {
   "cell_type": "code",
   "execution_count": null,
   "metadata": {},
   "outputs": [
    {
     "name": "stdout",
     "output_type": "stream",
     "text": [
      "Доверительный интервал для разности конверсий: (np.float64(-0.94), np.float64(-0.6))\n"
     ]
    }
   ],
   "source": [
    "# размеры выборок \n",
    "n = [ad['user id'].count(), psa['user id'].count()]\n",
    "# выборочная пропорция групп \n",
    "x_p = [ad['converted'].mean(), psa['converted'].mean()]\n",
    "\n",
    "# доверительный интервал для разности пропорций\n",
    "lower_bound, upper_bound = diff_proportion_conf_interval(x_p=x_p, n=n)\n",
    "\n",
    "print('Доверительный интервал для разности пропорций конверсий: {}'.format((round(lower_bound*100, 2), round(upper_bound*100, 2))))"
   ]
  },
  {
   "cell_type": "markdown",
   "metadata": {},
   "source": [
    "Вывод: интервал полностью находится ниже нуля (полностью отрицательный), то есть с 95% надежнстью можно сказать о том, что второй вариант (контрольная группа) значимо уступает по метрике конверсии первой группе (экспериментальной)"
   ]
  },
  {
   "cell_type": "markdown",
   "metadata": {},
   "source": [
    "##### Проверяем различия по среднему количеству увиденной рекламы между группами:\n",
    "\n",
    "(так как мы выше в первичных выводах предположили, что оно не отличается между группами то это и возьмем за основу для формирования гипотез)"
   ]
  },
  {
   "cell_type": "code",
   "execution_count": 130,
   "metadata": {},
   "outputs": [],
   "source": [
    "# Гипотезы:\n",
    "H0 = \"Среднее количество увиденной рекламы не отличается в экспериментальной и контрольной группах\"\n",
    "H1 = \"Среднее количество увиденной рекламы отличается в экспериментальной и контрольной группах\""
   ]
  },
  {
   "cell_type": "code",
   "execution_count": 131,
   "metadata": {},
   "outputs": [
    {
     "name": "stdout",
     "output_type": "stream",
     "text": [
      "Проверка на нормальность:\n",
      "Отклоняем нулевую гипотезу, принимаем альтернативную:\n",
      "Данные в группе имеют не нормальное распределение\n",
      "0.0\n",
      "Проверка на нормальность:\n",
      "Отклоняем нулевую гипотезу, принимаем альтернативную:\n",
      "Данные в группе имеют не нормальное распределение\n",
      "0.0\n"
     ]
    }
   ],
   "source": [
    "# Shapiro-Wilk тест\n",
    "shapiro_function(ad,'total ads')\n",
    "shapiro_function(psa,'total ads')"
   ]
  },
  {
   "cell_type": "code",
   "execution_count": 132,
   "metadata": {},
   "outputs": [
    {
     "data": {
      "image/png": "[encoded data removed]",
      "text/plain": [
       "<Figure size 1400x600 with 2 Axes>"
      ]
     },
     "metadata": {},
     "output_type": "display_data"
    }
   ],
   "source": [
    "# Создание подграфиков\n",
    "fig, (ax1, ax2) = plt.subplots(1, 2, figsize=(14, 6))\n",
    "\n",
    "# Гистограмма для группы A (ad)\n",
    "ax1.hist(ad['total ads'], bins=10, alpha=0.7, color='blue')\n",
    "ax1.set_title('Распределение показов рекламы в экспериментальной группе')\n",
    "ax1.set_xlabel('Количество показов рекламы')\n",
    "ax1.set_ylabel('Частота')\n",
    "ax1.grid(True)\n",
    "\n",
    "# Гистограмма для группы B (psa)\n",
    "ax2.hist(psa['total ads'], bins=10, alpha=0.7, color='orange')\n",
    "ax2.set_title('Распределение показов рекламы в контрольной группе')\n",
    "ax2.set_xlabel('Количество показов рекламы')\n",
    "ax2.grid(True)\n",
    "\n",
    "plt.tight_layout()\n",
    "plt.show()"
   ]
  },
  {
   "cell_type": "markdown",
   "metadata": {},
   "source": [
    "Не нормальность распределения в обеих группах также подтверждается графиками распределения.\n",
    "\n",
    "Следовательно, нам нужен непараметрически критерий для выявления статистической разницы между группами. Например, тест Манна-Уитни"
   ]
  },
  {
   "cell_type": "code",
   "execution_count": 253,
   "metadata": {},
   "outputs": [
    {
     "name": "stdout",
     "output_type": "stream",
     "text": [
      "p-value:  4.6909108547205694e-11\n",
      "Мы отвергаем нулевую гипотезу, верна альтернативная: \n",
      "В экспериментальнй группе (с рекламой) конверсия выше\n"
     ]
    }
   ],
   "source": [
    "# вычисляем результат теста Манна — Уитни для выборок\n",
    "__, p_value = mannwhitneyu(\n",
    "    x=ad['total ads'],\n",
    "    y=psa['total ads'],\n",
    "    alternative='two-sided'\n",
    ")\n",
    "print('p-value: ', p_value)\n",
    "\n",
    "if (p_value <= alpha):\n",
    "    print(\"Мы отвергаем нулевую гипотезу, верна альтернативная: \")\n",
    "    print(H1)\n",
    "else:\n",
    "    print(\"У нас нет оснований отвергнуть нулевую гипотезу\")\n",
    "    print(H0)"
   ]
  },
  {
   "cell_type": "markdown",
   "metadata": {},
   "source": [
    "Соответственно, количество увиденной рекламы в группах отличается. "
   ]
  },
  {
   "cell_type": "markdown",
   "metadata": {},
   "source": [
    "95 % доверительные интервалы для среднего количества увиденной рекламы в группах:\n",
    "\n",
    "Так как у нас выборка достаточно большая (более 500 тысяч человек в одной и более 20 тысяч в другой), то будем рассчитывать по формулам для истинных значений с расчетом z-критерия, так как в такой большой выборке показатели будут максимально близки к истинным."
   ]
  },
  {
   "cell_type": "code",
   "execution_count": 239,
   "metadata": {},
   "outputs": [
    {
     "name": "stdout",
     "output_type": "stream",
     "text": [
      "Доверительный интервал среднего количества увиденной рекламы в экспериментальной группе: (np.float64(24.709), np.float64(24.937))\n",
      "Доверительный интервал среднего количества увиденной рекламы в экспериментальной группе: (np.float64(24.213), np.float64(25.309))\n"
     ]
    }
   ],
   "source": [
    "# Функция для расчета доверительного интервала среднего количества увиденной рекламы\n",
    "def z_mean_conf_interval(x_mean, sigma, n, gamma=0.95):  \n",
    "    alpha = 1 - gamma \n",
    "    z_crit = -norm.ppf(alpha/2)\n",
    "    eps = z_crit * sigma/(n ** 0.5)\n",
    "    lower_bound = x_mean - eps\n",
    "    upper_bound = x_mean + eps\n",
    "    return lower_bound, upper_bound\n",
    "\n",
    "# Расчет стандартного отклонения и среднего значения для экспериментальной группы\n",
    "sigma_ad = ad['total ads'].std()\n",
    "x_mean_ad = ad['total ads'].mean()\n",
    "n_ad = ad['total ads'].count()\n",
    "lower_bound1, upper_bound1 = z_mean_conf_interval(x_mean_ad, sigma_ad, n_ad)\n",
    "\n",
    "# Расчет стандартного отклонения и среднего значения для контрольной группы\n",
    "sigma_psa = psa['total ads'].std()\n",
    "x_mean_psa = psa['total ads'].mean()\n",
    "n_psa = psa['total ads'].count()\n",
    "lower_bound2, upper_bound2 = z_mean_conf_interval(x_mean_psa, sigma_psa, n_psa)\n",
    "\n",
    "\n",
    "print('Доверительный интервал среднего количества увиденной рекламы в экспериментальной группе: {}'.format((round(lower_bound1,3), round(upper_bound1,3))))\n",
    "print('Доверительный интервал среднего количества увиденной рекламы в экспериментальной группе: {}'.format((round(lower_bound2,3), round(upper_bound2,3))))"
   ]
  },
  {
   "cell_type": "code",
   "execution_count": 240,
   "metadata": {},
   "outputs": [
    {
     "data": {
      "image/png": "[encoded data removed]",
      "text/plain": [
       "<Figure size 800x400 with 1 Axes>"
      ]
     },
     "metadata": {},
     "output_type": "display_data"
    }
   ],
   "source": [
    "# Боксплоты распределений количества увиденной рекламы по группам\n",
    "fig = plt.figure(figsize=(8, 4))\n",
    "ax = fig.add_axes([1, 1, 1, 1])\n",
    "sns.boxplot(data=df, x='total ads', y='test group', ax=ax, showfliers=False)\n",
    "ax.set_title('Среднее количество увиденной рекламы по группам')\n",
    "ax.grid(True)\n",
    "\n",
    "# Добавление доверительных интервалов на график\n",
    "positions = [0, 1]\n",
    "means = [x_mean_ad, x_mean_psa]\n",
    "ci_lower_bounds = [lower_bound1, lower_bound2]\n",
    "ci_upper_bounds = [upper_bound1, upper_bound2]\n",
    "\n",
    "for pos, mean, lower, upper in zip(positions, means, ci_lower_bounds, ci_upper_bounds):\n",
    "    ax.errorbar(x=mean, y=pos, xerr=[[mean - lower], [upper - mean]], fmt='o', color='red', capsize=5)\n",
    "\n",
    "plt.show()"
   ]
  },
  {
   "cell_type": "markdown",
   "metadata": {},
   "source": [
    "Вывод: доверительные интервалы пересекаются и вообще практически совпадают, соответственно, среднее количество увиденной рекламы не различается достоверно между группами"
   ]
  },
  {
   "cell_type": "markdown",
   "metadata": {},
   "source": [
    "Таким образом, можно сделать вывод, что показы рекламы в экспериментальной группе и объявляений о военной службе в контрольной группе значимо не различалось: хоть мы и получили значимое различие по результатам теста Манна-Уитни, но доверительные интервалы говорят об отсутствии значимых различий между средним количесвом показов между группами. Поэтому будем считать, что воздействие фактора было одинаково в двух группах.При этом конверсия оказалась значимо выше именно в экспериментальной группе с показом рекламы, что подтвердилось как по результатам Z-теста пропорций (p-value < 0,00001) и по результатам расчетов 95% доверительных интервалов пропорций конверсиф и разницы пропорцйи конверсий. Соответсвенно, можем сказать, что рекламная компания была успешной и мы можем сказать, что именно этот вариант принесет больше прибыли компании."
   ]
  }
 ],
 "metadata": {
  "kernelspec": {
   "display_name": "Python 3",
   "language": "python",
   "name": "python3"
  },
  "language_info": {
   "codemirror_mode": {
    "name": "ipython",
    "version": 3
   },
   "file_extension": ".py",
   "mimetype": "text/x-python",
   "name": "python",
   "nbconvert_exporter": "python",
   "pygments_lexer": "ipython3",
   "version": "3.9.10"
  }
 },
 "nbformat": 4,
 "nbformat_minor": 2
}
